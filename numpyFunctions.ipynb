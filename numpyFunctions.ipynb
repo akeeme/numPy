{
 "metadata": {
  "language_info": {
   "codemirror_mode": {
    "name": "ipython",
    "version": 3
   },
   "file_extension": ".py",
   "mimetype": "text/x-python",
   "name": "python",
   "nbconvert_exporter": "python",
   "pygments_lexer": "ipython3",
   "version": "3.8.5-final"
  },
  "orig_nbformat": 2,
  "kernelspec": {
   "name": "python3",
   "display_name": "Python 3",
   "language": "python"
  }
 },
 "nbformat": 4,
 "nbformat_minor": 2,
 "cells": [
  {
   "cell_type": "code",
   "execution_count": 13,
   "metadata": {},
   "outputs": [
    {
     "output_type": "stream",
     "name": "stdout",
     "text": [
      "the mean speed is  89.76923076923077\n\nthe median speed is  87.0\n\nthe standard deviation is  9.258292301032677\n\nthe variance is  85.71597633136093\n\n75% of people are younger than 43.0\n\n90% of people are younger than  61.0\n\n"
     ]
    }
   ],
   "source": [
    "import numpy as np\n",
    "from scipy import stats\n",
    "\n",
    "speed = [99,86,87,88,111,86,103,87,94,78,77,85,86]\n",
    "\n",
    "#mean\n",
    "\n",
    "x = np.mean(speed)\n",
    "\n",
    "print('the mean speed is ', x)\n",
    "print('')\n",
    "\n",
    "#median\n",
    "\n",
    "y = np.median(speed)\n",
    "\n",
    "print('the median speed is ', y)\n",
    "print('')\n",
    "\n",
    "#mode\n",
    "\n",
    "z = stats.mode(speed) #returns a moderesult object that contains the mode number and count (how many times the mode number appeared).\n",
    "z \n",
    "\n",
    "#standard deviation \n",
    "\n",
    "sd = np.std(speed)\n",
    "\n",
    "print('the standard deviation is ', sd)\n",
    "print('')\n",
    "\n",
    "#variance\n",
    "\n",
    "a = np.var(speed) #variance of speed\n",
    "print('the variance is ', a)\n",
    "print('')\n",
    "\n",
    "#percentile\n",
    "\n",
    "ages = [5,31,43,48,50,41,7,11,15,39,80,82,32,2,8,6,25,36,27,61,31]\n",
    "\n",
    "b = np.percentile(ages, 75)\n",
    "\n",
    "print('75% of people are younger than', b)\n",
    "print('')\n",
    "\n",
    "c = np.percentile(ages, 90)\n",
    "\n",
    "print('90% of people are younger than ', c)\n",
    "print('')\n",
    "\n"
   ]
  }
 ]
}